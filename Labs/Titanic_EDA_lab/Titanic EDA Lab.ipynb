{
 "cells": [
  {
   "cell_type": "markdown",
   "metadata": {},
   "source": [
    "# Titanic Exploratory Data Analysis Lab\n",
    "**University of Illinois**\n",
    "<br>CSC 570 - Data Science Essentials\n",
    "<br>Author: Arthur Putnam\n",
    "\n",
    "## Lab Directions\n",
    "For this lab you'll be using the titanic dataset (train.csv).   Your assignment is to create an Exploratory Data Analysis of the Titanic Data.   You may use R or Python to turn in your EDA.\n",
    "\n",
    "For each variable (except name), you'll need to know at least the following information:   \n",
    "1.  Is the variable categorical or continuous\n",
    "2.  Are there missing values?\n",
    "3. Min, Max, Mean, and Standard Deviation of the continuous variables.\n",
    "4. Histograms describing the distribution of the variable.\n",
    "5.  EDA should be completed for these fields:  'PassengerId', 'Survived', 'Pclass', 'Sex', 'Age', 'SibSp', 'Parch', 'Ticket', 'Fare', 'Cabin', and 'Embarked'\n",
    "If there are other explorations you'd like to include in your EDA, please feel free to do so.  Go where your imagination takes you.\n",
    "\n",
    "## Terms\n",
    "Exploratory Data Analysis (EDA) - is an approach to analyzing data sets to summarize their main characteristics, often with visual methods. \n",
    "\n",
    "## Data Set\n",
    "[https://www.kaggle.com/c/titanic/data](https://www.kaggle.com/c/titanic/data)"
   ]
  },
  {
   "cell_type": "code",
   "execution_count": 64,
   "metadata": {
    "scrolled": false
   },
   "outputs": [
    {
     "name": "stdout",
     "output_type": "stream",
     "text": [
      "Populating the interactive namespace from numpy and matplotlib\n"
     ]
    }
   ],
   "source": [
    "import pandas as pd; df = pd.read_csv(\"train.csv\"); \n",
    "%pylab inline"
   ]
  },
  {
   "cell_type": "markdown",
   "metadata": {},
   "source": [
    "## Data Description\n",
    "1. Survival - Survival (0 = No; 1 = Yes)\n",
    "2. Pclass - Passenger Class (1 = 1st; 2 = 2nd; 3 = 3rd)\n",
    "3. Name - Name\n",
    "4. Sex - Sex\n",
    "5. Age - Age\n",
    "6. Sibsp - Number of Siblings/Spouses Aboard\n",
    "7. Parch - Number of Parents/Children Aboard\n",
    "8. Ticket - Ticket Number\n",
    "9. Fare - Passenger Fare\n",
    "10. Cabin - Cabin\n",
    "11. Embarked - Port of Embarkation (C = Cherbourg; Q = Queenstown; S = Southampton)"
   ]
  },
  {
   "cell_type": "markdown",
   "metadata": {},
   "source": [
    "## Data Summary\n",
    "<table style=\"width:100%; border: 1px solid black;\">\n",
    "  <tr style=\"width:100%; border: 1px solid black;\">\n",
    "    <th style=\"width:100%; border: 1px solid black;text-align: center;\">Variable</th>\n",
    "    <th style=\"width:100%; border: 1px solid black;text-align: center;\">Categorical or Continuous</th>\n",
    "    <th style=\"width:100%; border: 1px solid black;text-align: center;\">Missing values</th>\n",
    "    <th style=\"width:100%; border: 1px solid black;text-align: center;\">Min</th>\n",
    "    <th style=\"width:100%; border: 1px solid black;text-align: center;\">Max</th>\n",
    "    <th style=\"width:100%; border: 1px solid black;text-align: center;\">Mean</th>\n",
    "    <th style=\"width:100%; border: 1px solid black;text-align: center;\">Standard Deviation</th>\n",
    "\n",
    "  </tr>\n",
    "  <tr style=\"width:100%; border: 1px solid black;\">\n",
    "    <td style=\"width:100%; border: 1px solid black; text-align:center\">PassengerId</td>\n",
    "    <td style=\"width:100%; border: 1px solid black; text-align:center\">Neither, Label variable</td>\n",
    "    <td style=\"width:100%; border: 1px solid black; text-align:center\">0</td>\n",
    "    <td style=\"width:100%; border: 1px solid black; text-align:center\">N.A.</td>\n",
    "    <td style=\"width:100%; border: 1px solid black; text-align:center\">N.A.</td>\n",
    "    <td style=\"width:100%; border: 1px solid black; text-align:center\">N.A.</td>\n",
    "    <td style=\"width:100%; border: 1px solid black; text-align:center\">N.A.</td>\n",
    "\n",
    "  </tr>\n",
    "   <tr style=\"width:100%; border: 1px solid black;\">\n",
    "    <td style=\"width:100%; border: 1px solid black; text-align:center\">Survived</td>\n",
    "    <td style=\"width:100%; border: 1px solid black; text-align:center\">Categorical (nominal)</td>\n",
    "    <td style=\"width:100%; border: 1px solid black; text-align:center\">0</td>\n",
    "    <td style=\"width:100%; border: 1px solid black; text-align:center\">N.A.</td>\n",
    "    <td style=\"width:100%; border: 1px solid black; text-align:center\">N.A.</td>\n",
    "    <td style=\"width:100%; border: 1px solid black; text-align:center\">N.A.</td>\n",
    "    <td style=\"width:100%; border: 1px solid black; text-align:center\">N.A.</td>\n",
    "\n",
    "  </tr>\n",
    "   <tr style=\"width:100%; border: 1px solid black;\">\n",
    "    <td style=\"width:100%; border: 1px solid black; text-align:center\">Pclass</td>\n",
    "    <td style=\"width:100%; border: 1px solid black; text-align:center\">Categorical (ordinal)</td>\n",
    "    <td style=\"width:100%; border: 1px solid black; text-align:center\">0</td>\n",
    "    <td style=\"width:100%; border: 1px solid black; text-align:center\">N.A.</td>\n",
    "    <td style=\"width:100%; border: 1px solid black; text-align:center\">N.A.</td>\n",
    "    <td style=\"width:100%; border: 1px solid black; text-align:center\">N.A.</td>\n",
    "    <td style=\"width:100%; border: 1px solid black; text-align:center\">N.A.</td>\n",
    "\n",
    "  </tr>\n",
    "   <tr style=\"width:100%; border: 1px solid black;\">\n",
    "    <td style=\"width:100%; border: 1px solid black; text-align:center\">Sex</td>\n",
    "    <td style=\"width:100%; border: 1px solid black; text-align:center\">Categorical (nominal)</td>\n",
    "    <td style=\"width:100%; border: 1px solid black; text-align:center\">0</td>\n",
    "    <td style=\"width:100%; border: 1px solid black; text-align:center\">N.A.</td>\n",
    "    <td style=\"width:100%; border: 1px solid black; text-align:center\">N.A.</td>\n",
    "    <td style=\"width:100%; border: 1px solid black; text-align:center\">N.A.</td>\n",
    "    <td style=\"width:100%; border: 1px solid black; text-align:center\">N.A.</td>\n",
    "\n",
    "  </tr>\n",
    "   <tr style=\"width:100%; border: 1px solid black;\">\n",
    "    <td style=\"width:100%; border: 1px solid black; text-align:center\">Age</td>\n",
    "    <td style=\"width:100%; border: 1px solid black; text-align:center\">Continuous</td>\n",
    "    <td style=\"width:100%; border: 1px solid black; text-align:center\">177</td>\n",
    "    <td style=\"width:100%; border: 1px solid black; text-align:center\">0.420</td>\n",
    "    <td style=\"width:100%; border: 1px solid black; text-align:center\">80.0</td>\n",
    "    <td style=\"width:100%; border: 1px solid black; text-align:center\">29.7</td>\n",
    "    <td style=\"width:100%; border: 1px solid black; text-align:center\">14.5</td>\n",
    "\n",
    "  </tr>\n",
    "\n",
    "   <tr style=\"width:100%; border: 1px solid black;\">\n",
    "    <td style=\"width:100%; border: 1px solid black; text-align:center\">SibSp</td>\n",
    "    <td style=\"width:100%; border: 1px solid black; text-align:center\">Discrete</td>\n",
    "    <td style=\"width:100%; border: 1px solid black; text-align:center\">0</td>\n",
    "    <td style=\"width:100%; border: 1px solid black; text-align:center\">0.00</td>\n",
    "    <td style=\"width:100%; border: 1px solid black; text-align:center\">8.00</td>\n",
    "    <td style=\"width:100%; border: 1px solid black; text-align:center\">0.523</td>\n",
    "    <td style=\"width:100%; border: 1px solid black; text-align:center\">1.10</td>\n",
    "\n",
    "  </tr>\n",
    "   <tr style=\"width:100%; border: 1px solid black;\">\n",
    "    <td style=\"width:100%; border: 1px solid black; text-align:center\">Parch</td>\n",
    "    <td style=\"width:100%; border: 1px solid black; text-align:center\">Discrete</td>\n",
    "    <td style=\"width:100%; border: 1px solid black; text-align:center\">0</td>\n",
    "    <td style=\"width:100%; border: 1px solid black; text-align:center\">0.00</td>\n",
    "    <td style=\"width:100%; border: 1px solid black; text-align:center\">6.00</td>\n",
    "    <td style=\"width:100%; border: 1px solid black; text-align:center\">0.382</td>\n",
    "    <td style=\"width:100%; border: 1px solid black; text-align:center\">0.806</td>\n",
    "\n",
    "  </tr>\n",
    "   <tr style=\"width:100%; border: 1px solid black;\">\n",
    "    <td style=\"width:100%; border: 1px solid black; text-align:center\">Ticket</td>\n",
    "    <td style=\"width:100%; border: 1px solid black; text-align:center\">Categorical (nominal)</td>\n",
    "    <td style=\"width:100%; border: 1px solid black; text-align:center\">0</td>\n",
    "    <td style=\"width:100%; border: 1px solid black; text-align:center\">N.A.</td>\n",
    "    <td style=\"width:100%; border: 1px solid black; text-align:center\">N.A.</td>\n",
    "    <td style=\"width:100%; border: 1px solid black; text-align:center\">N.A.</td>\n",
    "    <td style=\"width:100%; border: 1px solid black; text-align:center\">N.A.</td>\n",
    "\n",
    "  </tr>\n",
    "   <tr style=\"width:100%; border: 1px solid black;\">\n",
    "    <td style=\"width:100%; border: 1px solid black; text-align:center\">Fare</td>\n",
    "     <td style=\"width:100%; border: 1px solid black; text-align:center\">Continuous</td>\n",
    "    <td style=\"width:100%; border: 1px solid black; text-align:center\">0</td>\n",
    "    <td style=\"width:100%; border: 1px solid black; text-align:center\">0.00</td>\n",
    "    <td style=\"width:100%; border: 1px solid black; text-align:center\">512.32</td>\n",
    "    <td style=\"width:100%; border: 1px solid black; text-align:center\">32.20</td>\n",
    "    <td style=\"width:100%; border: 1px solid black; text-align:center\">49.69</td>\n",
    "\n",
    "  </tr>\n",
    "    <tr style=\"width:100%; border: 1px solid black;\">\n",
    "    <td style=\"width:100%; border: 1px solid black; text-align:center\">Cabin</td>\n",
    "    <td style=\"width:100%; border: 1px solid black; text-align:center\">Categorical (nominal)</td>\n",
    "    <td style=\"width:100%; border: 1px solid black; text-align:center\">687</td>\n",
    "    <td style=\"width:100%; border: 1px solid black; text-align:center\">N.A.</td>\n",
    "    <td style=\"width:100%; border: 1px solid black; text-align:center\">N.A.</td>\n",
    "    <td style=\"width:100%; border: 1px solid black; text-align:center\">N.A.</td>\n",
    "    <td style=\"width:100%; border: 1px solid black; text-align:center\">N.A.</td>\n",
    "  \n",
    "  </tr>\n",
    "   <tr style=\"width:100%; border: 1px solid black;\">\n",
    "    <td style=\"width:100%; border: 1px solid black; text-align:center\">Embarked</td>\n",
    "    <td style=\"width:100%; border: 1px solid black; text-align:center\">Categorical (nominal)</td>\n",
    "    <td style=\"width:100%; border: 1px solid black; text-align:center\">2</td>\n",
    "    <td style=\"width:100%; border: 1px solid black; text-align:center\">N.A.</td>\n",
    "    <td style=\"width:100%; border: 1px solid black; text-align:center\">N.A.</td>\n",
    "    <td style=\"width:100%; border: 1px solid black; text-align:center\">N.A.</td>\n",
    "    <td style=\"width:100%; border: 1px solid black; text-align:center\">N.A.</td>\n",
    "\n",
    "  </tr>\n",
    "</table>"
   ]
  },
  {
   "cell_type": "markdown",
   "metadata": {},
   "source": [
    "## Part 1: Is the variable categorical or continuous\n",
    "\n",
    "### Continuous variables"
   ]
  },
  {
   "cell_type": "code",
   "execution_count": 29,
   "metadata": {},
   "outputs": [
    {
     "name": "stdout",
     "output_type": "stream",
     "text": [
      "Continuous variables are:  ['Age', 'SibSp', 'Parch', 'Fare']\n"
     ]
    }
   ],
   "source": [
    "labels = ['Name', 'PassengerId']\n",
    "columns = list(df.columns.values)\n",
    "continuous = [column for column in columns \n",
    "              if len(df[column].value_counts()) > 5 \n",
    "              and column in list(df.describe().columns)\n",
    "              and column not in labels]\n",
    "print('Continuous variables are: ', continuous)"
   ]
  },
  {
   "cell_type": "markdown",
   "metadata": {},
   "source": [
    "### Categorical variables"
   ]
  },
  {
   "cell_type": "code",
   "execution_count": 30,
   "metadata": {},
   "outputs": [
    {
     "name": "stdout",
     "output_type": "stream",
     "text": [
      "Categorical variables are:  ['Survived', 'Pclass', 'Sex', 'Ticket', 'Cabin', 'Embarked']\n"
     ]
    }
   ],
   "source": [
    "categorical =  [column for column in columns \n",
    "                if column not in continuous \n",
    "                and column not in labels]\n",
    "print('Categorical variables are: ', categorical)"
   ]
  },
  {
   "cell_type": "markdown",
   "metadata": {},
   "source": [
    "## Part 2: Are there missing values?"
   ]
  },
  {
   "cell_type": "code",
   "execution_count": 55,
   "metadata": {},
   "outputs": [
    {
     "name": "stdout",
     "output_type": "stream",
     "text": [
      "Missing values\n",
      "PassengerId 0\n",
      "Survived 0\n",
      "Pclass 0\n",
      "Name 0\n",
      "Sex 0\n",
      "Age 177\n",
      "SibSp 0\n",
      "Parch 0\n",
      "Ticket 0\n",
      "Fare 0\n",
      "Cabin 687\n",
      "Embarked 2\n"
     ]
    }
   ],
   "source": [
    "print(\"Missing values\")\n",
    "for column in columns:\n",
    "    print(column,df[df[column].isnull()].shape[0])"
   ]
  },
  {
   "cell_type": "markdown",
   "metadata": {},
   "source": [
    "## Part 3: Min, Max, Mean, and Standard Deviation of the continuous variables\n",
    "(note: discrete varibles will be counted ad continuous)"
   ]
  },
  {
   "cell_type": "code",
   "execution_count": 57,
   "metadata": {},
   "outputs": [
    {
     "data": {
      "text/html": [
       "<div>\n",
       "<style>\n",
       "    .dataframe thead tr:only-child th {\n",
       "        text-align: right;\n",
       "    }\n",
       "\n",
       "    .dataframe thead th {\n",
       "        text-align: left;\n",
       "    }\n",
       "\n",
       "    .dataframe tbody tr th {\n",
       "        vertical-align: top;\n",
       "    }\n",
       "</style>\n",
       "<table border=\"1\" class=\"dataframe\">\n",
       "  <thead>\n",
       "    <tr style=\"text-align: right;\">\n",
       "      <th></th>\n",
       "      <th>Age</th>\n",
       "      <th>SibSp</th>\n",
       "      <th>Parch</th>\n",
       "      <th>Fare</th>\n",
       "    </tr>\n",
       "  </thead>\n",
       "  <tbody>\n",
       "    <tr>\n",
       "      <th>count</th>\n",
       "      <td>714.000000</td>\n",
       "      <td>891.000000</td>\n",
       "      <td>891.000000</td>\n",
       "      <td>891.000000</td>\n",
       "    </tr>\n",
       "    <tr>\n",
       "      <th>mean</th>\n",
       "      <td>29.699118</td>\n",
       "      <td>0.523008</td>\n",
       "      <td>0.381594</td>\n",
       "      <td>32.204208</td>\n",
       "    </tr>\n",
       "    <tr>\n",
       "      <th>std</th>\n",
       "      <td>14.526497</td>\n",
       "      <td>1.102743</td>\n",
       "      <td>0.806057</td>\n",
       "      <td>49.693429</td>\n",
       "    </tr>\n",
       "    <tr>\n",
       "      <th>min</th>\n",
       "      <td>0.420000</td>\n",
       "      <td>0.000000</td>\n",
       "      <td>0.000000</td>\n",
       "      <td>0.000000</td>\n",
       "    </tr>\n",
       "    <tr>\n",
       "      <th>25%</th>\n",
       "      <td>20.125000</td>\n",
       "      <td>0.000000</td>\n",
       "      <td>0.000000</td>\n",
       "      <td>7.910400</td>\n",
       "    </tr>\n",
       "    <tr>\n",
       "      <th>50%</th>\n",
       "      <td>28.000000</td>\n",
       "      <td>0.000000</td>\n",
       "      <td>0.000000</td>\n",
       "      <td>14.454200</td>\n",
       "    </tr>\n",
       "    <tr>\n",
       "      <th>75%</th>\n",
       "      <td>38.000000</td>\n",
       "      <td>1.000000</td>\n",
       "      <td>0.000000</td>\n",
       "      <td>31.000000</td>\n",
       "    </tr>\n",
       "    <tr>\n",
       "      <th>max</th>\n",
       "      <td>80.000000</td>\n",
       "      <td>8.000000</td>\n",
       "      <td>6.000000</td>\n",
       "      <td>512.329200</td>\n",
       "    </tr>\n",
       "  </tbody>\n",
       "</table>\n",
       "</div>"
      ],
      "text/plain": [
       "              Age       SibSp       Parch        Fare\n",
       "count  714.000000  891.000000  891.000000  891.000000\n",
       "mean    29.699118    0.523008    0.381594   32.204208\n",
       "std     14.526497    1.102743    0.806057   49.693429\n",
       "min      0.420000    0.000000    0.000000    0.000000\n",
       "25%     20.125000    0.000000    0.000000    7.910400\n",
       "50%     28.000000    0.000000    0.000000   14.454200\n",
       "75%     38.000000    1.000000    0.000000   31.000000\n",
       "max     80.000000    8.000000    6.000000  512.329200"
      ]
     },
     "execution_count": 57,
     "metadata": {},
     "output_type": "execute_result"
    }
   ],
   "source": [
    "continuous_df = df[continuous]\n",
    "continuous_df.describe()"
   ]
  },
  {
   "cell_type": "markdown",
   "metadata": {},
   "source": [
    "## Part 4: Histograms describing the distribution of the variable"
   ]
  },
  {
   "cell_type": "code",
   "execution_count": 105,
   "metadata": {},
   "outputs": [
    {
     "data": {
      "image/png": "[encoded data removed]",
      "text/plain": [
       "<matplotlib.figure.Figure at 0x1ee474f1ef0>"
      ]
     },
     "metadata": {},
     "output_type": "display_data"
    }
   ],
   "source": [
    "fig, axs = plt.subplots(nrows=4, ncols=1)\n",
    "for i, varible in  enumerate(continuous):\n",
    "    df[varible].plot(kind='hist', ax=axs[i], title=varible, figsize=(10, 20))\n"
   ]
  }
 ],
 "metadata": {
  "kernelspec": {
   "display_name": "Python 3",
   "language": "python",
   "name": "python3"
  },
  "language_info": {
   "codemirror_mode": {
    "name": "ipython",
    "version": 3
   },
   "file_extension": ".py",
   "mimetype": "text/x-python",
   "name": "python",
   "nbconvert_exporter": "python",
   "pygments_lexer": "ipython3",
   "version": "3.6.1"
  }
 },
 "nbformat": 4,
 "nbformat_minor": 2
}

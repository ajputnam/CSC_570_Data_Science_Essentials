{
 "cells": [
  {
   "cell_type": "markdown",
   "metadata": {},
   "source": [
    "#  Boston Housing Assignment\n",
    "**University of Illinois**\n",
    "<br>CSC 570 - Data Science Essentials\n",
    "<br>Author: Arthur Putnam\n",
    "\n",
    "## Lab Directions\n",
    "1.  Pull the Boston Housing notebook I've created for this assignment.\n",
    "\n",
    "2.  Impliment scikit learn's r2 and mse methods to measure the performance of my linear regressor.\n",
    "\n",
    "3.  Impliment either sklearn.linear_model.Ridge or sklearn.linear_model.Lasso.\n",
    "\n",
    "4.  Optimize (by reviewing the r2 and mse scores and adjusting the regularization paramater) the regression model you pick.\n",
    "\n",
    "5.  Turn in the github link to your work \n",
    "\n",
    "## Boston Housing Assignment\n",
    "\n",
    "In this assignment you'll be using linear regression to estimate the cost of house in boston, using a well known dataset.\n",
    "\n",
    "Goals:\n",
    "+  Measure the performance of the model I created using $R^{2}$ and MSE\n",
    "> Learn how to use sklearn.metrics.r2_score and sklearn.metrics.mean_squared_error\n",
    "+  Implement a new model using L2 regularization\n",
    "> Use sklearn.linear_model.Ridge or sklearn.linear_model.Lasso \n",
    "+  Get the best model you can by optimizing the regularization parameter.   "
   ]
  },
  {
   "cell_type": "code",
   "execution_count": 3,
   "metadata": {},
   "outputs": [
    {
     "name": "stderr",
     "output_type": "stream",
     "text": [
      "C:\\Users\\Aj-Pu\\Anaconda3\\lib\\site-packages\\sklearn\\cross_validation.py:44: DeprecationWarning: This module was deprecated in version 0.18 in favor of the model_selection module into which all the refactored classes and functions are moved. Also note that the interface of the new CV iterators are different from that of this module. This module will be removed in 0.20.\n",
      "  \"This module will be removed in 0.20.\", DeprecationWarning)\n"
     ]
    }
   ],
   "source": [
    "from sklearn import datasets\n",
    "import pandas as pd\n",
    "from sklearn.preprocessing import StandardScaler\n",
    "from sklearn.cross_validation import train_test_split\n",
    "from sklearn.metrics import mean_squared_error\n",
    "from sklearn.metrics import r2_score\n",
    "from sklearn.linear_model import LinearRegression"
   ]
  },
  {
   "cell_type": "code",
   "execution_count": 6,
   "metadata": {},
   "outputs": [
    {
     "name": "stdout",
     "output_type": "stream",
     "text": [
      "Boston House Prices dataset\n",
      "===========================\n",
      "\n",
      "Notes\n",
      "------\n",
      "Data Set Characteristics:  \n",
      "\n",
      "    :Number of Instances: 506 \n",
      "\n",
      "    :Number of Attributes: 13 numeric/categorical predictive\n",
      "    \n",
      "    :Median Value (attribute 14) is usually the target\n",
      "\n",
      "    :Attribute Information (in order):\n",
      "        - CRIM     per capita crime rate by town\n",
      "        - ZN       proportion of residential land zoned for lots over 25,000 sq.ft.\n",
      "        - INDUS    proportion of non-retail business acres per town\n",
      "        - CHAS     Charles River dummy variable (= 1 if tract bounds river; 0 otherwise)\n",
      "        - NOX      nitric oxides concentration (parts per 10 million)\n",
      "        - RM       average number of rooms per dwelling\n",
      "        - AGE      proportion of owner-occupied units built prior to 1940\n",
      "        - DIS      weighted distances to five Boston employment centres\n",
      "        - RAD      index of accessibility to radial highways\n",
      "        - TAX      full-value property-tax rate per $10,000\n",
      "        - PTRATIO  pupil-teacher ratio by town\n",
      "        - B        1000(Bk - 0.63)^2 where Bk is the proportion of blacks by town\n",
      "        - LSTAT    % lower status of the population\n",
      "        - MEDV     Median value of owner-occupied homes in $1000's\n",
      "\n",
      "    :Missing Attribute Values: None\n",
      "\n",
      "    :Creator: Harrison, D. and Rubinfeld, D.L.\n",
      "\n",
      "This is a copy of UCI ML housing dataset.\n",
      "http://archive.ics.uci.edu/ml/datasets/Housing\n",
      "\n",
      "\n",
      "This dataset was taken from the StatLib library which is maintained at Carnegie Mellon University.\n",
      "\n",
      "The Boston house-price data of Harrison, D. and Rubinfeld, D.L. 'Hedonic\n",
      "prices and the demand for clean air', J. Environ. Economics & Management,\n",
      "vol.5, 81-102, 1978.   Used in Belsley, Kuh & Welsch, 'Regression diagnostics\n",
      "...', Wiley, 1980.   N.B. Various transformations are used in the table on\n",
      "pages 244-261 of the latter.\n",
      "\n",
      "The Boston house-price data has been used in many machine learning papers that address regression\n",
      "problems.   \n",
      "     \n",
      "**References**\n",
      "\n",
      "   - Belsley, Kuh & Welsch, 'Regression diagnostics: Identifying Influential Data and Sources of Collinearity', Wiley, 1980. 244-261.\n",
      "   - Quinlan,R. (1993). Combining Instance-Based and Model-Based Learning. In Proceedings on the Tenth International Conference of Machine Learning, 236-243, University of Massachusetts, Amherst. Morgan Kaufmann.\n",
      "   - many more! (see http://archive.ics.uci.edu/ml/datasets/Housing)\n",
      "\n"
     ]
    }
   ],
   "source": [
    "bean = datasets.load_boston()\n",
    "print(bean.DESCR)"
   ]
  },
  {
   "cell_type": "code",
   "execution_count": 7,
   "metadata": {},
   "outputs": [],
   "source": [
    "def load_boston():\n",
    "    scaler = StandardScaler()\n",
    "    boston = datasets.load_boston()\n",
    "    X=boston.data\n",
    "    y=boston.target\n",
    "    X = scaler.fit_transform(X)\n",
    "    return train_test_split(X,y)\n",
    "    "
   ]
  },
  {
   "cell_type": "code",
   "execution_count": 8,
   "metadata": {},
   "outputs": [],
   "source": [
    "X_train, X_test, y_train, y_test = load_boston()"
   ]
  },
  {
   "cell_type": "code",
   "execution_count": 9,
   "metadata": {},
   "outputs": [
    {
     "data": {
      "text/plain": [
       "(379, 13)"
      ]
     },
     "execution_count": 9,
     "metadata": {},
     "output_type": "execute_result"
    }
   ],
   "source": [
    "X_train.shape"
   ]
  },
  {
   "cell_type": "markdown",
   "metadata": {},
   "source": [
    "### Fitting a Linear Regression\n",
    "\n",
    "It's as easy as instantiating a new regression object (line 1) and giving your regression object your training data\n",
    "(line 2) by calling .fit(independent variables, dependent variable)\n",
    "\n"
   ]
  },
  {
   "cell_type": "code",
   "execution_count": 103,
   "metadata": {},
   "outputs": [
    {
     "data": {
      "text/plain": [
       "LinearRegression(copy_X=True, fit_intercept=True, n_jobs=1, normalize=False)"
      ]
     },
     "execution_count": 103,
     "metadata": {},
     "output_type": "execute_result"
    }
   ],
   "source": [
    "clf = LinearRegression()\n",
    "clf.fit(X_train, y_train)"
   ]
  },
  {
   "cell_type": "markdown",
   "metadata": {},
   "source": [
    "### Making a Prediction\n",
    "X_test is our holdout set of data.  We know the answer (y_test) but the computer does not.   \n",
    "\n",
    "Using the command below, I create a tuple for each observation, where I'm combining the real value (y_test) with\n",
    "the value our regressor predicts (clf.predict(X_test))\n",
    "\n",
    "Use a similiar format to get your r2 and mse metrics working.  Using the [scikit learn api](http://scikit-learn.org/stable/modules/model_evaluation.html) if you need help!"
   ]
  },
  {
   "cell_type": "code",
   "execution_count": 11,
   "metadata": {},
   "outputs": [
    {
     "data": {
      "text/plain": [
       "[(8.8000000000000007, 6.4290404175970473),\n",
       " (36.399999999999999, 32.77394999678593),\n",
       " (14.300000000000001, 13.176844333515538),\n",
       " (13.1, 20.077390428506313),\n",
       " (26.199999999999999, 23.711948370737346),\n",
       " (25.0, 24.622202774862547),\n",
       " (15.6, 11.491004387955922),\n",
       " (22.800000000000001, 29.409722777222175),\n",
       " (17.5, 16.184429668773639),\n",
       " (30.5, 30.251584786276389),\n",
       " (23.899999999999999, 26.936949721127078),\n",
       " (27.5, 33.464502568655789),\n",
       " (13.800000000000001, 20.125028633407108),\n",
       " (27.5, 24.583723257877384),\n",
       " (28.699999999999999, 31.196185464770934),\n",
       " (27.899999999999999, 20.372363471296609),\n",
       " (24.600000000000001, 29.81517837671565),\n",
       " (32.0, 33.880762571219407),\n",
       " (29.600000000000001, 25.559478616858108),\n",
       " (17.100000000000001, 18.276765623177532),\n",
       " (20.100000000000001, 18.680765682227108),\n",
       " (14.800000000000001, 14.64819632004486),\n",
       " (25.0, 28.959469773454479),\n",
       " (24.399999999999999, 23.582347554426669),\n",
       " (14.9, 17.556713048051066),\n",
       " (29.100000000000001, 31.675180591552625),\n",
       " (50.0, 25.157096803037302),\n",
       " (24.600000000000001, 24.804112979742989),\n",
       " (20.0, 17.912940836555876),\n",
       " (22.600000000000001, 27.734198950344393),\n",
       " (31.600000000000001, 32.742491269356748),\n",
       " (24.0, 25.911220676368572),\n",
       " (50.0, 39.692750502412864),\n",
       " (19.300000000000001, 20.440237988344034),\n",
       " (19.100000000000001, 16.927629076624701),\n",
       " (17.100000000000001, 16.945559604312464),\n",
       " (21.100000000000001, 22.619990575789057),\n",
       " (13.4, 16.937957217990785),\n",
       " (23.300000000000001, 27.645759698715832),\n",
       " (21.199999999999999, 23.534154023726948),\n",
       " (20.899999999999999, 21.09855451553684),\n",
       " (37.299999999999997, 34.315647669374528),\n",
       " (8.4000000000000004, 5.217584978387535),\n",
       " (13.300000000000001, 19.912743438978513),\n",
       " (22.0, 27.066995727649179),\n",
       " (10.9, 14.679732650194934),\n",
       " (14.5, 18.73577463156149),\n",
       " (5.5999999999999996, 11.578941749854799),\n",
       " (18.100000000000001, 16.123099922600272),\n",
       " (16.100000000000001, 22.163674995091704),\n",
       " (35.399999999999999, 34.732859660140733),\n",
       " (16.800000000000001, 20.637854084792274),\n",
       " (22.800000000000001, 24.647973471874401),\n",
       " (16.199999999999999, 14.349433098395506),\n",
       " (14.199999999999999, 18.209086365589034),\n",
       " (13.1, 14.331130299237227),\n",
       " (42.799999999999997, 28.877516849358834),\n",
       " (26.699999999999999, 34.528135776104719),\n",
       " (13.9, 17.505240284218441),\n",
       " (22.600000000000001, 19.034273560547348),\n",
       " (31.699999999999999, 33.48620776488756),\n",
       " (23.0, 23.366115913845217),\n",
       " (20.800000000000001, 18.906672020615879),\n",
       " (16.100000000000001, 18.322045194985662),\n",
       " (17.5, 16.812126186754394),\n",
       " (14.4, 3.1660655310496786),\n",
       " (20.600000000000001, 19.506048458374899),\n",
       " (31.0, 34.814062708285633),\n",
       " (21.899999999999999, 37.727708213168938),\n",
       " (7.2000000000000002, 9.9024331479249756),\n",
       " (13.4, 13.466765418193315),\n",
       " (21.699999999999999, 24.102612877140224),\n",
       " (19.600000000000001, 17.970034146754205),\n",
       " (22.399999999999999, 23.862312538170116),\n",
       " (17.199999999999999, 13.971895336283801),\n",
       " (19.300000000000001, 22.489227890169648),\n",
       " (22.5, 29.100381036198662),\n",
       " (25.0, 25.212337754245105),\n",
       " (24.0, 30.375323684200364),\n",
       " (5.0, 6.3103790532959145),\n",
       " (41.700000000000003, 37.918759658573364),\n",
       " (22.5, 22.65535978616678),\n",
       " (24.399999999999999, 28.69889649503012),\n",
       " (30.100000000000001, 30.207188751779363),\n",
       " (29.600000000000001, 24.341366293270024),\n",
       " (33.299999999999997, 35.764991879555268),\n",
       " (20.699999999999999, 21.571871143365822),\n",
       " (18.800000000000001, 19.619780014991644),\n",
       " (28.399999999999999, 31.537068978762935),\n",
       " (17.800000000000001, 21.800226739032244),\n",
       " (16.5, 11.040564117343774),\n",
       " (17.0, 22.742904885863904),\n",
       " (10.199999999999999, 17.364790785570271),\n",
       " (50.0, 36.253032641939171),\n",
       " (32.899999999999999, 30.161839146527235),\n",
       " (17.399999999999999, 22.254353872227142),\n",
       " (42.299999999999997, 36.783925099289782),\n",
       " (22.199999999999999, 23.709003334742224),\n",
       " (24.199999999999999, 25.170665632752865),\n",
       " (44.0, 37.178284386178525),\n",
       " (24.699999999999999, 24.849184786631312),\n",
       " (17.800000000000001, 9.2302254931909165),\n",
       " (24.699999999999999, 23.536473906096905),\n",
       " (50.0, 35.57057488774614),\n",
       " (20.5, 19.32497929462054),\n",
       " (19.800000000000001, 21.886389915896725),\n",
       " (20.199999999999999, 22.091571615699507),\n",
       " (19.399999999999999, 25.606441195029337),\n",
       " (22.0, 21.067414100874128),\n",
       " (8.0999999999999996, 2.3236575104822954),\n",
       " (16.100000000000001, 19.41995690204223),\n",
       " (14.6, 8.0297220954867541),\n",
       " (20.300000000000001, 18.953143358128855),\n",
       " (22.600000000000001, 27.46913183365416),\n",
       " (17.399999999999999, 14.967693615002059),\n",
       " (29.399999999999999, 31.563246304273779),\n",
       " (21.399999999999999, 21.569351249670859),\n",
       " (31.100000000000001, 32.152998192601579),\n",
       " (13.1, 13.833082981431085),\n",
       " (30.100000000000001, 24.248698242150876),\n",
       " (25.100000000000001, 31.333911843737614),\n",
       " (18.600000000000001, 16.163343211630618),\n",
       " (37.0, 30.709823419198955),\n",
       " (20.0, 20.719565252058597),\n",
       " (13.800000000000001, 16.573185269074969),\n",
       " (28.399999999999999, 29.293863630823537),\n",
       " (18.699999999999999, 21.785139824427784)]"
      ]
     },
     "execution_count": 11,
     "metadata": {},
     "output_type": "execute_result"
    }
   ],
   "source": [
    "list(zip (y_test, clf.predict(X_test)))"
   ]
  },
  {
   "cell_type": "markdown",
   "metadata": {},
   "source": [
    "### RMSE - Root Mean Squared Error\n"
   ]
  },
  {
   "cell_type": "code",
   "execution_count": 86,
   "metadata": {},
   "outputs": [
    {
     "name": "stdout",
     "output_type": "stream",
     "text": [
      "RMSE: 5.118757366097946\n"
     ]
    }
   ],
   "source": [
    "import math\n",
    "\n",
    "def rmse(y_hat, y):\n",
    "    return math.sqrt(mean_squared_error(y_hat, y))\n",
    "\n",
    "y_hat = clf.predict(X_test)\n",
    "linear_regression_rmse = rmse(y_hat, y_test)\n",
    "print(\"RMSE:\", linear_regression_rmse)\n"
   ]
  },
  {
   "cell_type": "markdown",
   "metadata": {},
   "source": [
    "### R² coefficient of determination\n",
    "R² will be between 0 and 1, larger is better"
   ]
  },
  {
   "cell_type": "code",
   "execution_count": 88,
   "metadata": {},
   "outputs": [
    {
     "name": "stdout",
     "output_type": "stream",
     "text": [
      "Coefficient of determination: 0.677820660033\n"
     ]
    }
   ],
   "source": [
    "linear_regression_r2 = r2_score(y_test, y_hat)\n",
    "print(\"Coefficient of determination:\", linear_regression_r2 )"
   ]
  },
  {
   "cell_type": "markdown",
   "metadata": {},
   "source": [
    "### Linear Regression Summary"
   ]
  },
  {
   "cell_type": "code",
   "execution_count": 89,
   "metadata": {},
   "outputs": [
    {
     "name": "stdout",
     "output_type": "stream",
     "text": [
      "RMSE: 5.118757366097946\n",
      "Coefficient of determination: 0.677820660033\n"
     ]
    }
   ],
   "source": [
    "print(\"RMSE:\",linear_regression_rmse)\n",
    "print(\"Coefficient of determination:\", linear_regression_r2 )"
   ]
  },
  {
   "cell_type": "markdown",
   "metadata": {},
   "source": [
    "### Ridge model\n",
    "\"This model solves a regression model where the loss function is the linear least squares function and regularization is given by the l2-norm. Also known as Ridge Regression or Tikhonov regularization. This estimator has built-in support for multi-variate regression\" (sited from: http://scikit-learn.org/stable/modules/generated/sklearn.linear_model.Ridge.html)"
   ]
  },
  {
   "cell_type": "code",
   "execution_count": 82,
   "metadata": {},
   "outputs": [
    {
     "name": "stdout",
     "output_type": "stream",
     "text": [
      "==========================================\n",
      "Best Values for 0.00001-1\n",
      "lowest RMSE value in the list\n",
      "Best alpha value for RMSE (1-100): 0.99999\n",
      "RMSE value: 5.111349045609309\n",
      "Coefficient of determination: 0.678752558318\n",
      "\n",
      "\n",
      "lowest r2 value in the list\n",
      "Best alpha value for r2 (1-100): 1e-05\n",
      "RMSE value: 5.1187572880624455\n",
      "Coefficient of determination: 0.677820669856\n",
      "==========================================\n",
      "==========================================\n",
      "Best Values for 1-100\n",
      "lowest RMSE value in the list\n",
      "Best alpha value for RMSE (1-100): 35\n",
      "RMSE value: 5.038838234578068\n",
      "Coefficient of determination: 0.687802492433\n",
      "\n",
      "\n",
      "lowest r2 value in the list\n",
      "Best alpha value for r2 (1-100): 1\n",
      "RMSE value: 5.111348975285734\n",
      "Coefficient of determination: 0.678752567157\n",
      "==========================================\n"
     ]
    }
   ],
   "source": [
    "from sklearn.linear_model import Ridge\n",
    "import numpy as np\n",
    "\n",
    "rmse_values = []\n",
    "r2_values = []\n",
    "alpha_values = []\n",
    "for i in np.arange(0.00001, 1, 0.00001).tolist():\n",
    "    ridge_model = Ridge(alpha=i)\n",
    "    ridge_model.fit(X_train, y_train)\n",
    "    ridge_y_hat = ridge_model.predict(X_test)\n",
    "    alpha_values.append(i)\n",
    "    rmse_values.append(rmse(ridge_y_hat, y_test))\n",
    "    r2_values.append(r2_score(y_test, ridge_y_hat))\n",
    "\n",
    "print(\"==========================================\")\n",
    "print(\"Best Values for 0.00001-1\")\n",
    "# lowest RMSE value in the list\n",
    "index = rmse_values.index(min(rmse_values))\n",
    "best_alpha_value = alpha_values[index]\n",
    "print(\"lowest RMSE value in the list\")\n",
    "print(\"Best alpha value for RMSE (1-100):\", best_alpha_value)\n",
    "print(\"RMSE value:\", min(rmse_values))\n",
    "print(\"Coefficient of determination:\",r2_values[index]) \n",
    "\n",
    "print(\"\\n\")\n",
    "\n",
    "# lowest r2 value in the list\n",
    "print(\"lowest r2 value in the list\")\n",
    "index = r2_values.index(min(r2_values))\n",
    "best_alpha_value = alpha_values[index]\n",
    "print(\"Best alpha value for r2 (1-100):\", best_alpha_value)\n",
    "print(\"RMSE value:\", rmse_values[index])\n",
    "print(\"Coefficient of determination:\",r2_values[index]) \n",
    "print(\"==========================================\")\n",
    "\n",
    "rmse_values = []\n",
    "r2_values = []\n",
    "alpha_values = []\n",
    "for i in range(1,100):\n",
    "    ridge_model = Ridge(alpha=i)\n",
    "    ridge_model.fit(X_train, y_train)\n",
    "    ridge_y_hat = ridge_model.predict(X_test)\n",
    "    alpha_values.append(i)\n",
    "    rmse_values.append(rmse(ridge_y_hat, y_test))\n",
    "    r2_values.append(r2_score(y_test, ridge_y_hat))\n",
    "\n",
    "print(\"==========================================\")\n",
    "print(\"Best Values for 1-100\")\n",
    "# lowest RMSE value in the list\n",
    "index = rmse_values.index(min(rmse_values))\n",
    "best_alpha_value = alpha_values[index]\n",
    "print(\"lowest RMSE value in the list\")\n",
    "print(\"Best alpha value for RMSE (1-100):\", best_alpha_value)\n",
    "print(\"RMSE value:\", min(rmse_values))\n",
    "print(\"Coefficient of determination:\",r2_values[index]) \n",
    "\n",
    "print(\"\\n\")\n",
    "\n",
    "# lowest r2 value in the list\n",
    "print(\"lowest r2 value in the list\")\n",
    "index = r2_values.index(min(r2_values))\n",
    "best_alpha_value = alpha_values[index]\n",
    "print(\"Best alpha value for r2 (1-100):\", best_alpha_value)\n",
    "print(\"RMSE value:\", rmse_values[index])\n",
    "print(\"Coefficient of determination:\",r2_values[index]) \n",
    "print(\"==========================================\")"
   ]
  },
  {
   "cell_type": "markdown",
   "metadata": {},
   "source": [
    "### Lasso model\n",
    "\"Linear Model trained with L1 prior as regularizer (aka the Lasso)\" (sited from: http://scikit-learn.org/stable/modules/generated/sklearn.linear_model.Lasso.html)"
   ]
  },
  {
   "cell_type": "code",
   "execution_count": 100,
   "metadata": {},
   "outputs": [
    {
     "name": "stdout",
     "output_type": "stream",
     "text": [
      "==========================================\n",
      "Best Values for 0.00001-1\n",
      "lowest RMSE value in the list\n",
      "Best alpha value for RMSE (1-100): 0.12853000000000003\n",
      "RMSE value: 5.028847093658451\n",
      "Coefficient of determination: 0.689039331848\n",
      "\n",
      "\n",
      "lowest r2 value in the list\n",
      "Best alpha value for r2 (1-100): 0.99999\n",
      "RMSE value: 5.356040351357251\n",
      "Coefficient of determination: 0.647258725449\n",
      "==========================================\n",
      "==========================================\n",
      "Best Values for 1-100\n",
      "lowest RMSE value in the list\n",
      "Best alpha value for RMSE (1-100): 1\n",
      "RMSE value: 5.3560427488577425\n",
      "Coefficient of determination: 0.647258409657\n",
      "\n",
      "\n",
      "lowest r2 value in the list\n",
      "Best alpha value for r2 (1-100): 7\n",
      "RMSE value: 9.020954328599489\n",
      "Coefficient of determination: -0.000630110804626\n",
      "==========================================\n"
     ]
    }
   ],
   "source": [
    "from sklearn.linear_model import Lasso\n",
    "\n",
    "rmse_values = []\n",
    "r2_values = []\n",
    "alpha_values = []\n",
    "for i in np.arange(0.00001, 1, 0.00001).tolist():\n",
    "    lasso_model = Lasso(alpha=i)\n",
    "    lasso_model.fit(X_train, y_train)\n",
    "    lasso_y_hat = lasso_model.predict(X_test)\n",
    "    alpha_values.append(i)\n",
    "    rmse_values.append(rmse(lasso_y_hat, y_test))\n",
    "    r2_values.append(r2_score(y_test, lasso_y_hat))\n",
    "\n",
    "print(\"==========================================\")\n",
    "print(\"Best Values for 0.00001-1\")\n",
    "# lowest RMSE value in the list\n",
    "index = rmse_values.index(min(rmse_values))\n",
    "best_alpha_value = alpha_values[index]\n",
    "print(\"lowest RMSE value in the list\")\n",
    "print(\"Best alpha value for RMSE (1-100):\", best_alpha_value)\n",
    "print(\"RMSE value:\", min(rmse_values))\n",
    "print(\"Coefficient of determination:\",r2_values[index]) \n",
    "\n",
    "print(\"\\n\")\n",
    "\n",
    "# lowest r2 value in the list\n",
    "print(\"lowest r2 value in the list\")\n",
    "index = r2_values.index(min(r2_values))\n",
    "best_alpha_value = alpha_values[index]\n",
    "print(\"Best alpha value for r2 (1-100):\", best_alpha_value)\n",
    "print(\"RMSE value:\", rmse_values[index])\n",
    "print(\"Coefficient of determination:\",r2_values[index]) \n",
    "print(\"==========================================\")\n",
    "\n",
    "rmse_values = []\n",
    "r2_values = []\n",
    "alpha_values = []\n",
    "for i in range(1,100):\n",
    "    lasso_model = Lasso(alpha=i)\n",
    "    lasso_model.fit(X_train, y_train)\n",
    "    lasso_y_hat = lasso_model.predict(X_test)\n",
    "    alpha_values.append(i)\n",
    "    rmse_values.append(rmse(lasso_y_hat, y_test))\n",
    "    r2_values.append(r2_score(y_test, lasso_y_hat))\n",
    "\n",
    "print(\"==========================================\")\n",
    "print(\"Best Values for 1-100\")\n",
    "# lowest RMSE value in the list\n",
    "index = rmse_values.index(min(rmse_values))\n",
    "best_alpha_value = alpha_values[index]\n",
    "print(\"lowest RMSE value in the list\")\n",
    "print(\"Best alpha value for RMSE (1-100):\", best_alpha_value)\n",
    "print(\"RMSE value:\", min(rmse_values))\n",
    "print(\"Coefficient of determination:\",r2_values[index]) \n",
    "\n",
    "print(\"\\n\")\n",
    "\n",
    "# lowest r2 value in the list\n",
    "print(\"lowest r2 value in the list\")\n",
    "index = r2_values.index(min(r2_values))\n",
    "best_alpha_value = alpha_values[index]\n",
    "print(\"Best alpha value for r2 (1-100):\", best_alpha_value)\n",
    "print(\"RMSE value:\", rmse_values[index])\n",
    "print(\"Coefficient of determination:\",r2_values[index]) \n",
    "print(\"==========================================\")"
   ]
  },
  {
   "cell_type": "markdown",
   "metadata": {},
   "source": [
    "### Summary of best of LinearRegression, Ridge and Lasso "
   ]
  },
  {
   "cell_type": "code",
   "execution_count": 104,
   "metadata": {},
   "outputs": [
    {
     "name": "stdout",
     "output_type": "stream",
     "text": [
      "----------------------------------------------------------------------\n",
      "Linear Regression RMSE: 5.118757366097946\n",
      "Linear Regression Coefficient of determination: 0.677820660033\n",
      "----------------------------------------------------------------------\n",
      "Ridge RRMSE value: 5.028847093658451\n",
      "RidgeCoefficient of determination: 0.689039331848\n",
      "----------------------------------------------------------------------\n",
      "Lasso RMSE value: 5.038838234578068\n",
      "Lasso Coefficient of determination: 0.687802492433\n",
      "----------------------------------------------------------------------\n"
     ]
    }
   ],
   "source": [
    "print(\"----------------------------------------------------------------------\")\n",
    "print(\"Linear Regression RMSE:\",linear_regression_rmse)\n",
    "print(\"Linear Regression Coefficient of determination:\", linear_regression_r2 )\n",
    "print(\"----------------------------------------------------------------------\")\n",
    "print(\"Ridge RRMSE value: 5.028847093658451\")\n",
    "print(\"RidgeCoefficient of determination: 0.689039331848\")\n",
    "print(\"----------------------------------------------------------------------\")\n",
    "print(\"Lasso RMSE value: 5.038838234578068\")\n",
    "print(\"Lasso Coefficient of determination: 0.687802492433\")\n",
    "print(\"----------------------------------------------------------------------\")\n"
   ]
  }
 ],
 "metadata": {
  "kernelspec": {
   "display_name": "Python 3",
   "language": "python",
   "name": "python3"
  },
  "language_info": {
   "codemirror_mode": {
    "name": "ipython",
    "version": 3
   },
   "file_extension": ".py",
   "mimetype": "text/x-python",
   "name": "python",
   "nbconvert_exporter": "python",
   "pygments_lexer": "ipython3",
   "version": "3.6.1"
  }
 },
 "nbformat": 4,
 "nbformat_minor": 1
}

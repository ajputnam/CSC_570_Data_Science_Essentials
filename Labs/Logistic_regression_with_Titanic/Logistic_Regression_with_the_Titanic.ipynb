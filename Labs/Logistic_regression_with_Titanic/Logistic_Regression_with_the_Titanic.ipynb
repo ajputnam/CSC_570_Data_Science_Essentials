{
 "cells": [
  {
   "cell_type": "markdown",
   "metadata": {},
   "source": [
    "## Logistic Regression with the Titanic Lab\n",
    "**University of Illinois**\n",
    "<br>CSC 570 - Data Science Essentials\n",
    "<br>Author: Arthur Putnam\n",
    "\n",
    "## Lab Directions\n",
    "Your job for this assignment is to create a logistic regression model to predict survival on the titanic.   \n",
    "\n",
    "You may start by using my lecture this week, posted on github.  It's titled Week6Lecture.ipynb. [link](https://github.com/mbernico/CS570/blob/master/module_2/Week6Lecture.ipynb)\n",
    "\n",
    "If you recall, I used only age and sex in my model.   You may use any variable you wish in your model.  \n",
    "\n",
    "It's up to you to choose the best features.  Collaborating with your class, the Internet, etc is allowed and encouraged.\n",
    "Many of the variables are categorical and if you choose to use them you will need to be converted using 'one hot encoding.'\n",
    "You must validate your model against a random 20% holdout, using the train_test_split function (or R equivalent).\n",
    "Submit your notebook or R code on git as usual, and turn in a link to the file.\n",
    "\n",
    "## Terms\n",
    "\n",
    "## Hypotheses\n",
    "Death rates are related to:\n",
    "* Pclass (I think first class will have more survivals)\n",
    "* Sex (females will be more likely to live)\n",
    "* Age (younger are more likely to live)\n",
    "* Cabin (People who were housed closer to the deck were more likely to get to life boats first)\n",
    "\n",
    "I found this picture that helped me guess what cabin letters to use for the different Pclasses\n",
    "![cabins](687px-Titanic_cutaway_diagram.png)\n",
    "[picture cited](https://www.kaggle.com/c/titanic/discussion/4693)\n",
    "\n",
    "## Data Set\n"
   ]
  },
  {
   "cell_type": "code",
   "execution_count": 539,
   "metadata": {},
   "outputs": [
    {
     "name": "stdout",
     "output_type": "stream",
     "text": [
      "Populating the interactive namespace from numpy and matplotlib\n"
     ]
    }
   ],
   "source": [
    "import pandas as pd\n",
    "%pylab inline"
   ]
  },
  {
   "cell_type": "code",
   "execution_count": 540,
   "metadata": {},
   "outputs": [],
   "source": [
    "#reading the data from the disk into memory\n",
    "df = pd.read_csv(\"train.csv\")"
   ]
  },
  {
   "cell_type": "code",
   "execution_count": 541,
   "metadata": {},
   "outputs": [],
   "source": [
    "# From our EDA we know there are 687 missing cabin values...\n",
    "# first class was closer to the deck. \n",
    "# fill in missing cabins using what pclass they are in...\n",
    "\n",
    "guess_cabin = {\n",
    "    1: 'C',\n",
    "    2: 'E',\n",
    "    3: 'F'\n",
    "}\n",
    "\n",
    "df2 =  pd.read_csv(\"train.csv\")\n",
    "\n",
    "# for any null cabin replace it using the 'guess_cabin' lookup\n",
    "v = df2.loc[df2['Cabin'].isnull(), 'Cabin'] = df2.loc[df2['Cabin'].isnull()].Pclass.map(guess_cabin)\n",
    "df2['Cabin'] = df2.Cabin.apply(lambda x: x[0]) #group by first cabin letter"
   ]
  },
  {
   "cell_type": "code",
   "execution_count": 542,
   "metadata": {},
   "outputs": [],
   "source": [
    "# dataframe with important features\n",
    "X = pd.DataFrame()\n",
    "X['sex'] = df2['Sex']\n",
    "X['age'] = df2['Age']\n",
    "X['age'].fillna(X.age.mean(), inplace=True)\n",
    "X['pclass'] = df2['Pclass']\n",
    "X['cabin'] = df2['Cabin']\n",
    "X['SibSp'] = df2['SibSp'] # added later (it improved the auc)\n",
    "X['Parch'] = df2['Parch'] # added later (it improved the auc)\n",
    "y = df2['Survived']"
   ]
  },
  {
   "cell_type": "code",
   "execution_count": 543,
   "metadata": {},
   "outputs": [],
   "source": [
    "X['sex'] = pd.get_dummies(X.sex)['female']\n",
    "X = pd.concat([X, pd.get_dummies(X.pclass, prefix='pclass')], axis=1)\n",
    "X = pd.concat([X, pd.get_dummies(X.cabin, prefix='cabin')], axis=1)\n",
    "X.drop(['cabin'], axis=1, inplace=True)"
   ]
  },
  {
   "cell_type": "code",
   "execution_count": 544,
   "metadata": {},
   "outputs": [],
   "source": [
    "#remember to scale our features, as with linear regression\n",
    "from sklearn.cross_validation import train_test_split\n",
    "from sklearn.preprocessing import StandardScaler\n",
    "scaler = StandardScaler()\n",
    "X= scaler.fit_transform(X)"
   ]
  },
  {
   "cell_type": "code",
   "execution_count": 545,
   "metadata": {},
   "outputs": [],
   "source": [
    "#build test and training sets\n",
    "X_train, X_test, y_train, y_test = train_test_split(X, y, test_size=0.2, random_state=42)"
   ]
  },
  {
   "cell_type": "code",
   "execution_count": 546,
   "metadata": {},
   "outputs": [],
   "source": [
    "from sklearn.linear_model import LogisticRegression\n",
    "model = LogisticRegression(penalty='l2', C=1)"
   ]
  },
  {
   "cell_type": "code",
   "execution_count": 547,
   "metadata": {},
   "outputs": [
    {
     "data": {
      "text/plain": [
       "LogisticRegression(C=1, class_weight=None, dual=False, fit_intercept=True,\n",
       "          intercept_scaling=1, max_iter=100, multi_class='ovr', n_jobs=1,\n",
       "          penalty='l2', random_state=None, solver='liblinear', tol=0.0001,\n",
       "          verbose=0, warm_start=False)"
      ]
     },
     "execution_count": 547,
     "metadata": {},
     "output_type": "execute_result"
    }
   ],
   "source": [
    "model.fit(X_train, y_train)"
   ]
  },
  {
   "cell_type": "code",
   "execution_count": 548,
   "metadata": {},
   "outputs": [
    {
     "name": "stdout",
     "output_type": "stream",
     "text": [
      "Logistic accuracy is 0.82\n"
     ]
    }
   ],
   "source": [
    "print(\"Logistic accuracy is %2.2f\" % accuracy_score(y_test,model.predict(X_test)))"
   ]
  },
  {
   "cell_type": "code",
   "execution_count": 549,
   "metadata": {},
   "outputs": [
    {
     "name": "stdout",
     "output_type": "stream",
     "text": [
      "(0.83798882681564246, 0.005300000000000001) (0.83240223463687146, 0.0055000000000000005)\n",
      "(0.67597765363128492, 0.0001) (0.68156424581005581, 0.0002)\n"
     ]
    },
    {
     "data": {
      "text/plain": [
       "LogisticRegression(C=0.005300000000000001, class_weight=None, dual=False,\n",
       "          fit_intercept=True, intercept_scaling=1, max_iter=100,\n",
       "          multi_class='ovr', n_jobs=1, penalty='l2', random_state=None,\n",
       "          solver='liblinear', tol=0.0001, verbose=0, warm_start=False)"
      ]
     },
     "execution_count": 549,
     "metadata": {},
     "output_type": "execute_result"
    }
   ],
   "source": [
    "import numpy as np\n",
    "\n",
    "values = []\n",
    "for i in np.arange(0.0001, 1, 0.0001).tolist():\n",
    "    model = LogisticRegression(penalty='l2', C=i)\n",
    "    model.fit(X_train, y_train)\n",
    "    values.append((accuracy_score(y_test,model.predict(X_test)), i))\n",
    "\n",
    "values_sorted = sorted(values, reverse=True)\n",
    "minv =  sorted(values, reverse=False)\n",
    "print(values_sorted[0], values_sorted[1])\n",
    "print(minv[0], minv[1])\n",
    "\n",
    "my_best_model = LogisticRegression(penalty='l2', C=values_sorted[0][1])\n",
    "my_best_model.fit(X_train, y_train)"
   ]
  },
  {
   "cell_type": "code",
   "execution_count": 550,
   "metadata": {},
   "outputs": [],
   "source": [
    "from sklearn.metrics import roc_auc_score\n",
    "from sklearn.metrics import classification_report"
   ]
  },
  {
   "cell_type": "code",
   "execution_count": 551,
   "metadata": {},
   "outputs": [
    {
     "name": "stdout",
     "output_type": "stream",
     "text": [
      "Logistic AUC = 0.84\n",
      "             precision    recall  f1-score   support\n",
      "\n",
      "          0       0.87      0.85      0.86       105\n",
      "          1       0.79      0.82      0.81        74\n",
      "\n",
      "avg / total       0.84      0.84      0.84       179\n",
      "\n"
     ]
    }
   ],
   "source": [
    "#logistic AUC\n",
    "logit_roc_auc = roc_auc_score(y_test, my_best_model.predict(X_test))\n",
    "print(\"Logistic AUC = %2.2f\" % logit_roc_auc)\n",
    "print(classification_report(y_test, my_best_model.predict(X_test) ))"
   ]
  },
  {
   "cell_type": "code",
   "execution_count": 552,
   "metadata": {},
   "outputs": [],
   "source": [
    "from sklearn.metrics import roc_curve\n",
    "fpr, tpr, thresholds = roc_curve(y_test, my_best_model.predict_proba(X_test)[:,1])"
   ]
  },
  {
   "cell_type": "code",
   "execution_count": 553,
   "metadata": {},
   "outputs": [
    {
     "data": {
      "image/png": "[encoded data removed]",
      "text/plain": [
       "<matplotlib.figure.Figure at 0x17c75b6a978>"
      ]
     },
     "metadata": {},
     "output_type": "display_data"
    }
   ],
   "source": [
    "# Plot of a ROC curve for a specific class\n",
    "plt.figure()\n",
    "plt.plot(fpr, tpr, label='ROC curve (area = %0.2f)' % logit_roc_auc)\n",
    "plt.plot([0, 1], [0, 1], 'k--')\n",
    "plt.xlim([0.0, 1.0])\n",
    "plt.ylim([0.0, 1.05])\n",
    "plt.xlabel('False Positive Rate')\n",
    "plt.ylabel('True Positive Rate')\n",
    "plt.title('Receiver operating characteristic example')\n",
    "plt.legend(loc=\"lower right\")\n",
    "plt.show()"
   ]
  }
 ],
 "metadata": {
  "kernelspec": {
   "display_name": "Python 3",
   "language": "python",
   "name": "python3"
  },
  "language_info": {
   "codemirror_mode": {
    "name": "ipython",
    "version": 3
   },
   "file_extension": ".py",
   "mimetype": "text/x-python",
   "name": "python",
   "nbconvert_exporter": "python",
   "pygments_lexer": "ipython3",
   "version": "3.6.1"
  }
 },
 "nbformat": 4,
 "nbformat_minor": 1
}
